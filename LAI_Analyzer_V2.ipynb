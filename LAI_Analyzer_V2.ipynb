{
 "cells": [
  {
   "cell_type": "markdown",
   "metadata": {},
   "source": [
    "LAI_Analyzer<br>\n",
    "This script is used for organizing the LAI ground measurements.<br>\n",
    "Input table is required manually, and the input table should be exactly the same as the example. The first three sheets\n",
    "come from the 'Analyzer' by copy and past, and the 4th sheet come from the 2nd sheet by only copy and past the main\n",
    "part of the 2nd sheet.<br>\n",
    "Another thing need to be awarded is the name for each sheet. Keep it as mine or change both names in the EXCEL and \n",
    "in this code.<br>\n",
    "\n",
    "Contact information:<br>\n",
    "Rui Gao<br>\n",
    "rui.gao@aggiemail.usu.edu"
   ]
  },
  {
   "cell_type": "code",
   "execution_count": 1,
   "metadata": {},
   "outputs": [],
   "source": [
    "import pandas as pd"
   ]
  },
  {
   "cell_type": "code",
   "execution_count": 2,
   "metadata": {},
   "outputs": [],
   "source": [
    "%run D:\\Python_Functions\\FolderCreater.py"
   ]
  },
  {
   "cell_type": "code",
   "execution_count": 245,
   "metadata": {},
   "outputs": [],
   "source": [
    "# dir_work = r'D:\\Project_Wellsville\\3_LAI_Field_Measurements'\n",
    "name_excel = r'D:\\Project_Wellsville\\6_LAI_VIs_Relationship_1\\2_LAI_Analyzer\\5_1_Ring\\LAI_Well_0720N.xlsx'\n",
    "path_output = r'D:\\Project_Wellsville\\6_LAI_VIs_Relationship_1\\3_LAI_Analyzer_Organized_Data\\5_1_Ring'\n",
    "name_output = 'LAI_Well_0720N.csv'"
   ]
  },
  {
   "cell_type": "code",
   "execution_count": 246,
   "metadata": {},
   "outputs": [],
   "source": [
    "FolderCreater(path_output)\n",
    "xls = pd.ExcelFile(name_excel)\n",
    "df_current = pd.read_excel(xls,'Current_new')\n",
    "df_LAI = pd.read_excel(xls,'Gap Fractions')\n",
    "# print(df_current,df_LAI)"
   ]
  },
  {
   "cell_type": "code",
   "execution_count": 247,
   "metadata": {},
   "outputs": [
    {
     "name": "stdout",
     "output_type": "stream",
     "text": [
      "Totally 49 LAI records acount and \n",
      "   around 52 records for locations are saved.\n",
      "\n",
      "3 41.661428 -111.91871 8.97054 20200720 15:02:38\n",
      "7 41.661411 -111.91872 0.826 20200720 15:02:49\n",
      "9 41.661391 -111.91874 2.72977 20200720 15:02:56\n",
      "11 41.661384 -111.91876 5.08635 20200720 15:03:01\n",
      "13 41.661356 -111.91876 8.15029 20200720 15:03:09\n",
      "15 41.661335 -111.91876 7.40618 20200720 15:03:14\n",
      "17 41.66133 -111.91883 4.88069 20200720 15:04:30\n",
      "19 41.661421 -111.91899 5.24004 20200720 15:07:15\n",
      "21 41.661381 -111.91906 9.37402 20200720 15:07:25\n",
      "23 41.66136 -111.91909 10.4661 20200720 15:07:34\n",
      "25 41.661403 -111.91919 3.26482 20200720 15:12:47\n",
      "27 41.661375 -111.91923 6.21611 20200720 15:12:56\n",
      "29 41.661349 -111.91924 3.70774 20200720 15:13:04\n",
      "31 41.66144 -111.91938 9.6983 20200720 15:13:31\n",
      "33 41.661404 -111.9194 8.02537 20200720 15:13:40\n",
      "35 41.661366 -111.91945 6.6522 20200720 15:13:48\n",
      "37 41.661337 -111.91949 10.105 20200720 15:13:57\n",
      "39 41.661435 -111.91972 7.33367 20200720 15:14:28\n",
      "41 41.661428 -111.91975 10.9285 20200720 15:14:37\n",
      "45 41.66145 -111.92003 9.12796 20200720 15:15:19\n",
      "47 41.661436 -111.92007 11.1957 20200720 15:15:29\n",
      "49 41.661411 -111.92011 9.08629 20200720 15:15:38\n",
      "51 41.661391 -111.92018 10.2823 20200720 15:15:48\n",
      "53 41.661459 -111.92039 10.7667 20200720 15:16:16\n",
      "55 41.661441 -111.92042 6.3 20200720 15:16:23\n",
      "57 41.66141 -111.92047 0.805657 20200720 15:16:32\n",
      "59 41.661382 -111.92051 2.51374 20200720 15:16:40\n",
      "61 41.661353 -111.92054 5.60885 20200720 15:16:49\n",
      "63 41.661452 -111.92079 9.58383 20200720 15:17:55\n",
      "65 41.661438 -111.92081 4.20509 20200720 15:18:03\n",
      "67 41.661399 -111.92087 4.46534 20200720 15:18:14\n",
      "69 41.661372 -111.9209 3.98023 20200720 15:18:22\n",
      "71 41.661469 -111.92105 6.86968 20200720 15:18:46\n",
      "73 41.661463 -111.92107 6.45261 20200720 15:18:53\n",
      "75 41.661419 -111.92113 5.35 20200720 15:19:03\n",
      "77 41.66139 -111.92116 2.5605 20200720 15:19:11\n",
      "79 41.661374 -111.92118 6.58813 20200720 15:19:18\n",
      "81 41.661475 -111.92135 10.2462 20200720 15:19:46\n",
      "83 41.661454 -111.92137 6.43109 20200720 15:19:52\n",
      "85 41.661438 -111.92138 9.16063 20200720 15:20:00\n",
      "87 41.661429 -111.92141 9.98879 20200720 15:20:06\n",
      "89 41.661401 -111.92144 6.29001 20200720 15:20:14\n",
      "91 41.661389 -111.92147 4.87362 20200720 15:20:20\n",
      "93 41.661483 -111.92151 5.18409 20200720 15:20:36\n",
      "95 41.661469 -111.92153 6.96071 20200720 15:20:42\n",
      "97 41.661455 -111.92154 5.79482 20200720 15:20:47\n",
      "99 41.661428 -111.92157 5.77422 20200720 15:20:54\n",
      "101 41.661423 -111.92159 9.10725 20200720 15:21:00\n",
      "103 41.661401 -111.9216 3.90394 20200720 15:21:07\n"
     ]
    }
   ],
   "source": [
    "ID = []\n",
    "LAI = []\n",
    "Time = []\n",
    "Latitude = []\n",
    "Longtitude = []\n",
    "number_Gap = len(df_LAI['LAI'].values)\n",
    "number_Current = len(df_current['No'].values)\n",
    "print('Totally',number_Gap,'LAI records acount and \\n   around',str(int(number_Current/2)),'records for locations are saved.\\n')\n",
    "for ieach in range(number_Gap):\n",
    "# for ieach in range(2):\n",
    "    ID_real = df_LAI['B_Obs'].values[ieach]\n",
    "#     print(ID_real)\n",
    "    isearch = 0\n",
    "    while isearch < number_Current:\n",
    "        if ID_real == df_current['No'].values[isearch]-1:\n",
    "            ID.append(ID_real)\n",
    "            LAI.append(df_LAI['LAI'].values[ieach])\n",
    "            Time.append(df_current['Time'].values[isearch])\n",
    "            Latitude.append(df_current['Latitude'].values[isearch])\n",
    "            Longtitude.append(df_current['Longtitude'].values[isearch])\n",
    "            print(df_LAI['B_Obs'].values[ieach],\n",
    "                  df_current['Latitude'].values[isearch],\n",
    "                  df_current['Longtitude'].values[isearch],\n",
    "                  df_LAI['LAI'].values[ieach],\n",
    "                  df_current['Time'].values[isearch])\n",
    "            isearch += 1\n",
    "            continue\n",
    "        isearch += 1"
   ]
  },
  {
   "cell_type": "code",
   "execution_count": 248,
   "metadata": {},
   "outputs": [
    {
     "name": "stdout",
     "output_type": "stream",
     "text": [
      "49 49 49 49 49\n"
     ]
    }
   ],
   "source": [
    "print(len(ID),len(LAI),len(Time),len(Latitude),len(Longtitude))\n",
    "df_LAI = pd.DataFrame()\n",
    "df_LAI['ID'] = ID\n",
    "df_LAI['LAI'] = LAI\n",
    "df_LAI['Time'] = Time\n",
    "df_LAI['Lat'] = Latitude\n",
    "df_LAI['Lon'] = Longtitude\n",
    "df_LAI\n",
    "df_LAI.to_csv(path_output + \"\\\\\" + name_output,index=False)"
   ]
  },
  {
   "cell_type": "code",
   "execution_count": null,
   "metadata": {},
   "outputs": [],
   "source": []
  },
  {
   "cell_type": "code",
   "execution_count": null,
   "metadata": {},
   "outputs": [],
   "source": []
  }
 ],
 "metadata": {
  "kernelspec": {
   "display_name": "Python 3",
   "language": "python",
   "name": "python3"
  },
  "language_info": {
   "codemirror_mode": {
    "name": "ipython",
    "version": 3
   },
   "file_extension": ".py",
   "mimetype": "text/x-python",
   "name": "python",
   "nbconvert_exporter": "python",
   "pygments_lexer": "ipython3",
   "version": "3.7.9"
  }
 },
 "nbformat": 4,
 "nbformat_minor": 4
}
