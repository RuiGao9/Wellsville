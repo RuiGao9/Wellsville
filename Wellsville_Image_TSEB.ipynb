{
 "cells": [
  {
   "cell_type": "code",
   "execution_count": 27,
   "metadata": {},
   "outputs": [],
   "source": [
    "import arcpy\n",
    "import arcview\n",
    "from arcpy import env\n",
    "import numpy as np\n",
    "import matplotlib.pyplot as plt\n",
    "import gdal\n",
    "\n",
    "%run D:\\Python_Functions\\FolderCreater.py\n",
    "%run D:\\Python_Functions\\TellExtent.py\n",
    "%run D:\\Python_Functions\\1_Modified_VSSIXA_Functions\\WriteTiffData.py\n",
    "%run C:\\Users\\grui9\\Box\\GitHub_Rui\\Python_Functions\\TellTheGeoInfo.py"
   ]
  },
  {
   "cell_type": "markdown",
   "metadata": {},
   "source": [
    "# Define parameters and folder paths"
   ]
  },
  {
   "cell_type": "code",
   "execution_count": 52,
   "metadata": {},
   "outputs": [],
   "source": [
    "Flight_Date = \"20200904\"\n",
    "Research_Grids = r'D:\\Project_Wellsville\\13_2nd_flight_2020\\1_ArcGIS_0904\\Well0904_Grids_1m.shp'\n",
    "AggieAir_Spectral = r'D:\\Project_Wellsville\\0_Data\\20200903_Wellsville\\20200903_wellsville_dragonfly_micasense_120m_bgrrenirtir_ThermalBias_Mosaic.tif'\n",
    "dir_output = r'D:\\Project_Wellsville\\13_2nd_flight_2020\\3_Model_Process_1'\n",
    "FolderCreater(dir_output)\n",
    "\n",
    "CellSize = \"0.1 0.1\"\n",
    "NoDataValue = -9999\n",
    "ThermalNoDataValue = np.nan\n",
    "band_G = 1\n",
    "band_R = 2\n",
    "band_RE = 3\n",
    "band_NIR = 4\n",
    "band_Tr = 5\n",
    "GridSize = 1 # meter\n",
    "h_corn = 2.5\n",
    "h_alf = 0.2\n",
    "h_mar = 1.1\n",
    "h_road = 0\n",
    "# give imperical values avoiding inf values\n",
    "LAI_max_value = 4.5\n",
    "w_h_ratio_max = 10"
   ]
  },
  {
   "cell_type": "markdown",
   "metadata": {},
   "source": [
    "# Image pre-processing\n",
    "Resample and align the image data"
   ]
  },
  {
   "cell_type": "code",
   "execution_count": 29,
   "metadata": {},
   "outputs": [
    {
     "data": {
      "text/html": [
       "<h2>Output</h2>D:\\Project_Wellsville\\13_2nd_flight_2020\\3_Model_Process_1\\20200904_res.tif<h2>Messages</h2>Start Time: Friday, March 26, 2021 3:03:56 PM<br/>Building Pyramids...<br/>Succeeded at Friday, March 26, 2021 3:09:46 PM (Elapsed Time: 5 minutes 49 seconds)<br/><style>.rendered_html td, .rendered_html th {text-align: left;}.rendered_html tbody {border: 1px solid black;}</style>"
      ],
      "text/plain": [
       "<Result 'D:\\\\Project_Wellsville\\\\13_2nd_flight_2020\\\\3_Model_Process_1\\\\20200904_res.tif'>"
      ]
     },
     "execution_count": 29,
     "metadata": {},
     "output_type": "execute_result"
    }
   ],
   "source": [
    "# Resample\n",
    "arcpy.Resample_management(in_raster=AggieAir_Spectral, \n",
    "                          out_raster=dir_output+\"\\\\\"+Flight_Date+\"_res.tif\", \n",
    "                          cell_size=CellSize, \n",
    "                          resampling_type=\"NEAREST\")"
   ]
  },
  {
   "cell_type": "code",
   "execution_count": 30,
   "metadata": {},
   "outputs": [
    {
     "name": "stdout",
     "output_type": "stream",
     "text": [
      "The extent is: 423220.5553930541 4612315.669819682 423836.5553930541 4612809.669819682\n"
     ]
    },
    {
     "data": {
      "text/html": [
       "<h2>Output</h2>D:\\Project_Wellsville\\13_2nd_flight_2020\\3_Model_Process_1\\20200904_clip.tif<h2>Messages</h2>Start Time: Friday, March 26, 2021 3:09:46 PM<br/>Building Pyramids...<br/>Succeeded at Friday, March 26, 2021 3:12:30 PM (Elapsed Time: 2 minutes 43 seconds)<br/><style>.rendered_html td, .rendered_html th {text-align: left;}.rendered_html tbody {border: 1px solid black;}</style>"
      ],
      "text/plain": [
       "<Result 'D:\\\\Project_Wellsville\\\\13_2nd_flight_2020\\\\3_Model_Process_1\\\\20200904_clip.tif'>"
      ]
     },
     "execution_count": 30,
     "metadata": {},
     "output_type": "execute_result"
    }
   ],
   "source": [
    "rectangle_extent = TellExtent(Research_Grids)\n",
    "# Align the image with the grids\n",
    "arcpy.Clip_management(in_raster=dir_output+\"\\\\\"+Flight_Date+\"_res.tif\", \n",
    "                      rectangle=rectangle_extent, \n",
    "                      out_raster=dir_output+\"\\\\\"+Flight_Date+\"_clip.tif\", \n",
    "                      in_template_dataset=Research_Grids, \n",
    "                      nodata_value=NoDataValue, \n",
    "                      clipping_geometry=\"NONE\", maintain_clipping_extent=\"MAINTAIN_EXTENT\")"
   ]
  },
  {
   "cell_type": "markdown",
   "metadata": {},
   "source": [
    "# Vegetation index calculation\n",
    "Using NDVI to recognize the soil and vegetation, and also export several VIs raster data."
   ]
  },
  {
   "cell_type": "code",
   "execution_count": 31,
   "metadata": {},
   "outputs": [
    {
     "name": "stdout",
     "output_type": "stream",
     "text": [
      "Dimension of the data is: 4940 6160\n"
     ]
    }
   ],
   "source": [
    "# get the information from the cliped imagery\n",
    "# resolution is 0.1*0.1\n",
    "[dims,img_geo,img_prj] = TellTheGeoInfo(dir_output+\"\\\\\"+Flight_Date+\"_clip.tif\")"
   ]
  },
  {
   "cell_type": "code",
   "execution_count": 32,
   "metadata": {},
   "outputs": [
    {
     "name": "stderr",
     "output_type": "stream",
     "text": [
      "C:\\Users\\grui9\\anaconda3\\envs\\TSEB\\lib\\site-packages\\ipykernel_launcher.py:5: RuntimeWarning: invalid value encountered in true_divide\n",
      "  \"\"\"\n",
      "C:\\Users\\grui9\\anaconda3\\envs\\TSEB\\lib\\site-packages\\ipykernel_launcher.py:6: RuntimeWarning: divide by zero encountered in true_divide\n",
      "  \n",
      "C:\\Users\\grui9\\anaconda3\\envs\\TSEB\\lib\\site-packages\\ipykernel_launcher.py:6: RuntimeWarning: invalid value encountered in true_divide\n",
      "  \n"
     ]
    },
    {
     "name": "stdout",
     "output_type": "stream",
     "text": [
      "D:\\Project_Wellsville\\13_2nd_flight_2020\\3_Model_Process_1\\20200904_NDVI.tif\n",
      "Done!!! Tiff data has been written.\n",
      "D:\\Project_Wellsville\\13_2nd_flight_2020\\3_Model_Process_1\\20200904_CI_re.tif\n",
      "Done!!! Tiff data has been written.\n",
      "D:\\Project_Wellsville\\13_2nd_flight_2020\\3_Model_Process_1\\20200904_MCARI1.tif\n",
      "Done!!! Tiff data has been written.\n"
     ]
    },
    {
     "data": {
      "image/png": "[encoded data removed]",
      "text/plain": [
       "<Figure size 432x288 with 1 Axes>"
      ]
     },
     "metadata": {
      "needs_background": "light"
     },
     "output_type": "display_data"
    }
   ],
   "source": [
    "# NDVI calculation and histogram\n",
    "# CI_RE calculation for LAI calculation for Corn\n",
    "Array_Spectral = arcpy.RasterToNumPyArray(dir_output+\"\\\\\"+Flight_Date+\"_clip.tif\", \n",
    "                                          nodata_to_value=NoDataValue)\n",
    "NDVI = (Array_Spectral[band_NIR,:,:]-Array_Spectral[band_R,:,:])/(Array_Spectral[band_NIR,:,:]+Array_Spectral[band_R,:,:])\n",
    "CI_RE = Array_Spectral[band_NIR,:,:]/Array_Spectral[band_RE,:,:]-1\n",
    "MCARI1 = 2*(Array_Spectral[band_NIR,:,:]-Array_Spectral[band_R,:,:]-0.2*(Array_Spectral[band_NIR,:,:]-Array_Spectral[band_G,:,:]))\n",
    "WriteTiffData(dir_output, Flight_Date+\"_NDVI\", dims[0], dims[1], NDVI, img_geo, img_prj)\n",
    "WriteTiffData(dir_output, Flight_Date+\"_CI_re\", dims[0], dims[1], CI_RE, img_geo, img_prj)\n",
    "WriteTiffData(dir_output, Flight_Date+\"_MCARI1\", dims[0], dims[1], MCARI1, img_geo, img_prj)\n",
    "\n",
    "# the histogram of the data\n",
    "NDVI_hist = NDVI.reshape(-1)\n",
    "n, bins, patches = plt.hist(NDVI_hist, 1000, density=True, facecolor='g', alpha=0.75)\n",
    "plt.xlabel('NDVI')\n",
    "plt.ylabel('Probability')\n",
    "plt.title('Histogram of NDVI')\n",
    "# plt.text(60, .025, r'$\\mu=100,\\ \\sigma=15$')\n",
    "plt.xlim(-1, 1)\n",
    "# plt.ylim(0, 0.03)\n",
    "plt.grid(True)\n",
    "plt.show()"
   ]
  },
  {
   "cell_type": "markdown",
   "metadata": {},
   "source": [
    "# Fractional cover and canopy width\n",
    "We need manually to find the threshold to defind the vegetation index"
   ]
  },
  {
   "cell_type": "code",
   "execution_count": 33,
   "metadata": {},
   "outputs": [],
   "source": [
    "# NDVI threshold from histogram for vegetation\n",
    "NDVI_threshold = 0.35"
   ]
  },
  {
   "cell_type": "code",
   "execution_count": 34,
   "metadata": {},
   "outputs": [
    {
     "name": "stdout",
     "output_type": "stream",
     "text": [
      "D:\\Project_Wellsville\\13_2nd_flight_2020\\3_Model_Process_1\\20200904_Veg.tif\n",
      "Done!!! Tiff data has been written.\n"
     ]
    },
    {
     "data": {
      "text/plain": [
       "()"
      ]
     },
     "execution_count": 34,
     "metadata": {},
     "output_type": "execute_result"
    }
   ],
   "source": [
    "# Using the threshold to identify the vegetation pixel and non-vegetation index\n",
    "Veg_logic = NDVI.copy()\n",
    "Veg_logic[Veg_logic >= NDVI_threshold] = 1\n",
    "Veg_logic[Veg_logic < NDVI_threshold] = 0\n",
    "WriteTiffData(dir_output, Flight_Date+\"_Veg\", dims[0], dims[1], Veg_logic, img_geo, img_prj)"
   ]
  },
  {
   "cell_type": "code",
   "execution_count": 35,
   "metadata": {},
   "outputs": [
    {
     "data": {
      "text/plain": [
       "<geoprocessing server result object at 0x1f8e670a180>"
      ]
     },
     "execution_count": 35,
     "metadata": {},
     "output_type": "execute_result"
    }
   ],
   "source": [
    "# Zonal statistics as table - for fractional cover\n",
    "arcpy.gp.ZonalStatisticsAsTable_sa(Research_Grids, \"FID\", dir_output+\"\\\\\"+Flight_Date+\"_Veg.tif\", \n",
    "                                   dir_output+\"\\\\\"+Flight_Date+\"_Zonal.dbf\", \"DATA\", \"SUM\")"
   ]
  },
  {
   "cell_type": "code",
   "execution_count": 36,
   "metadata": {},
   "outputs": [
    {
     "data": {
      "text/html": [
       "<h2>Output</h2>D:\\Project_Wellsville\\13_2nd_flight_2020\\3_Model_Process_1\\20200904_Zonal.dbf<h2>Messages</h2>Start Time: Friday, March 26, 2021 3:18:10 PM<br/>Adding FC to 20200904_Zonal...<br/>Succeeded at Friday, March 26, 2021 3:18:27 PM (Elapsed Time: 16.81 seconds)<br/><style>.rendered_html td, .rendered_html th {text-align: left;}.rendered_html tbody {border: 1px solid black;}</style>"
      ],
      "text/plain": [
       "<Result 'D:\\\\Project_Wellsville\\\\13_2nd_flight_2020\\\\3_Model_Process_1\\\\20200904_Zonal.dbf'>"
      ]
     },
     "execution_count": 36,
     "metadata": {},
     "output_type": "execute_result"
    }
   ],
   "source": [
    "# add a new field and then get the fractional cover\n",
    "# arcpy.AddField_management(Research_Grids, \"FC\", \"Double\", field_length=20)\n",
    "arcpy.CalculateField_management(in_table=dir_output+\"\\\\\"+Flight_Date+\"_Zonal.dbf\", \n",
    "                                field=\"FC\", \n",
    "                                expression=\"!SUM! / !COUNT!\", \n",
    "                                expression_type=\"PYTHON_9.3\", code_block=\"\")"
   ]
  },
  {
   "cell_type": "code",
   "execution_count": 38,
   "metadata": {},
   "outputs": [
    {
     "data": {
      "text/html": [
       "<h2>Output</h2>D:\\Project_Wellsville\\13_2nd_flight_2020\\1_ArcGIS_0904\\Well0904_Grids_1m.shp<h2>Messages</h2>Start Time: Friday, March 26, 2021 3:26:46 PM<br/>Succeeded at Friday, March 26, 2021 3:27:03 PM (Elapsed Time: 16.85 seconds)<br/><style>.rendered_html td, .rendered_html th {text-align: left;}.rendered_html tbody {border: 1px solid black;}</style>"
      ],
      "text/plain": [
       "<Result 'D:\\\\Project_Wellsville\\\\13_2nd_flight_2020\\\\1_ArcGIS_0904\\\\Well0904_Grids_1m.shp'>"
      ]
     },
     "execution_count": 38,
     "metadata": {},
     "output_type": "execute_result"
    }
   ],
   "source": [
    "# Join the table and then output it as a raster \n",
    "arcpy.JoinField_management(in_data=Research_Grids, \n",
    "                           in_field=\"FID\", \n",
    "                           join_table=dir_output+\"\\\\\"+Flight_Date+\"_Zonal.dbf\", \n",
    "                           join_field=\"FID_\", \n",
    "                           fields=\"FC\")"
   ]
  },
  {
   "cell_type": "code",
   "execution_count": 40,
   "metadata": {},
   "outputs": [
    {
     "data": {
      "text/html": [
       "<h2>Output</h2>D:\\Project_Wellsville\\13_2nd_flight_2020\\3_Model_Process_1\\20200904_C_w.tif<h2>Messages</h2>Start Time: Friday, March 26, 2021 3:28:58 PM<br/>Succeeded at Friday, March 26, 2021 3:29:01 PM (Elapsed Time: 2.86 seconds)<br/><style>.rendered_html td, .rendered_html th {text-align: left;}.rendered_html tbody {border: 1px solid black;}</style>"
      ],
      "text/plain": [
       "<Result 'D:\\\\Project_Wellsville\\\\13_2nd_flight_2020\\\\3_Model_Process_1\\\\20200904_C_w.tif'>"
      ]
     },
     "execution_count": 40,
     "metadata": {},
     "output_type": "execute_result"
    }
   ],
   "source": [
    "# output the fractional cover and canopy width as raster format\n",
    "arcpy.FeatureToRaster_conversion(in_features=Research_Grids, \n",
    "                                 field=\"FC\", \n",
    "                                 out_raster=dir_output+\"\\\\\"+Flight_Date+\"_Fc.tif\", \n",
    "                                 cell_size=GridSize)\n",
    "# This one works only when the grid size is 1 meter\n",
    "arcpy.FeatureToRaster_conversion(in_features=Research_Grids, \n",
    "                                 field=\"FC\", \n",
    "                                 out_raster=dir_output+\"\\\\\"+Flight_Date+\"_C_w.tif\", \n",
    "                                 cell_size=GridSize)"
   ]
  },
  {
   "cell_type": "markdown",
   "metadata": {},
   "source": [
    "# Canopy height \n",
    "Manually assign canopy height based on the objectives"
   ]
  },
  {
   "cell_type": "code",
   "execution_count": 41,
   "metadata": {},
   "outputs": [
    {
     "data": {
      "text/html": [
       "<h2>Output</h2>D:\\Project_Wellsville\\13_2nd_flight_2020\\3_Model_Process_1\\20200904_C_h.tif<h2>Messages</h2>Start Time: Friday, March 26, 2021 3:30:46 PM<br/>Succeeded at Friday, March 26, 2021 3:30:50 PM (Elapsed Time: 3.19 seconds)<br/><style>.rendered_html td, .rendered_html th {text-align: left;}.rendered_html tbody {border: 1px solid black;}</style>"
      ],
      "text/plain": [
       "<Result 'D:\\\\Project_Wellsville\\\\13_2nd_flight_2020\\\\3_Model_Process_1\\\\20200904_C_h.tif'>"
      ]
     },
     "execution_count": 41,
     "metadata": {},
     "output_type": "execute_result"
    }
   ],
   "source": [
    "# assign canopy height for different canopy type\n",
    "arcpy.management.CalculateField(Research_Grids,\n",
    "                                \"Ch\", \n",
    "                                \"canopyheight(!Id!)\", \n",
    "                                \"PYTHON3\", \n",
    "                                \"\"\"def canopyheight(ID):\n",
    "    if ID == 1:\n",
    "        hc = 2.5\n",
    "    elif ID == 2:\n",
    "        hc = 0.2\n",
    "    elif ID == 3:\n",
    "        hc = 0.2\n",
    "    elif ID == 4:\n",
    "        hc = 1.1\n",
    "    elif ID == 5:\n",
    "        hc = 0\n",
    "    elif ID == 6:\n",
    "        hc = 0\n",
    "    return(hc)\n",
    "\"\"\", \"DOUBLE\")\n",
    "arcpy.FeatureToRaster_conversion(in_features=Research_Grids, \n",
    "                                 field=\"Ch\", \n",
    "                                 out_raster=dir_output+\"\\\\\"+Flight_Date+\"_C_h.tif\", \n",
    "                                 cell_size=GridSize)"
   ]
  },
  {
   "cell_type": "markdown",
   "metadata": {},
   "source": [
    "# The ratio between canopy width and canopy height"
   ]
  },
  {
   "cell_type": "code",
   "execution_count": 42,
   "metadata": {},
   "outputs": [
    {
     "name": "stdout",
     "output_type": "stream",
     "text": [
      "Dimension of the data is: 494 616\n",
      "D:\\Project_Wellsville\\13_2nd_flight_2020\\3_Model_Process_1\\20200904_w_h.tif\n",
      "Done!!! Tiff data has been written.\n"
     ]
    },
    {
     "name": "stderr",
     "output_type": "stream",
     "text": [
      "C:\\Users\\grui9\\anaconda3\\envs\\TSEB\\lib\\site-packages\\ipykernel_launcher.py:7: RuntimeWarning: divide by zero encountered in true_divide\n",
      "  import sys\n"
     ]
    },
    {
     "data": {
      "text/plain": [
       "()"
      ]
     },
     "execution_count": 42,
     "metadata": {},
     "output_type": "execute_result"
    }
   ],
   "source": [
    "# resolution is 1*1 meter\n",
    "[dims,img_geo,img_prj] = TellTheGeoInfo(dir_output+\"\\\\\"+Flight_Date+\"_C_w.tif\")\n",
    "Array_width = arcpy.RasterToNumPyArray(dir_output+\"\\\\\"+Flight_Date+\"_C_w.tif\", \n",
    "                                          nodata_to_value=NoDataValue)\n",
    "Array_height = arcpy.RasterToNumPyArray(dir_output+\"\\\\\"+Flight_Date+\"_C_h.tif\", \n",
    "                                          nodata_to_value=NoDataValue)\n",
    "Array_ratio = Array_width/Array_height\n",
    "Array_ratio[Array_ratio>w_h_ratio_max]=w_h_ratio_max\n",
    "\n",
    "WriteTiffData(dir_output, Flight_Date+\"_w_h\", dims[0], dims[1], Array_ratio, img_geo, img_prj)"
   ]
  },
  {
   "cell_type": "markdown",
   "metadata": {},
   "source": [
    "# LAI estimation\n",
    "Need to manually modify the LAI value based on the canopy type"
   ]
  },
  {
   "cell_type": "code",
   "execution_count": 43,
   "metadata": {},
   "outputs": [
    {
     "data": {
      "text/plain": [
       "<geoprocessing server result object at 0x1f881dd4d20>"
      ]
     },
     "execution_count": 43,
     "metadata": {},
     "output_type": "execute_result"
    }
   ],
   "source": [
    "# Zonal statistics as table\n",
    "arcpy.gp.ZonalStatisticsAsTable_sa(Research_Grids, \"FID\", dir_output+\"\\\\\"+Flight_Date+\"_CI_re.tif\", \n",
    "                                   dir_output+\"\\\\\"+Flight_Date+\"_CIreAvg.dbf\", \"DATA\", \"MEAN\")\n",
    "arcpy.gp.ZonalStatisticsAsTable_sa(Research_Grids, \"FID\", dir_output+\"\\\\\"+Flight_Date+\"_NDVI.tif\", \n",
    "                                   dir_output+\"\\\\\"+Flight_Date+\"_NDVIAvg.dbf\", \"DATA\", \"MEAN\")\n",
    "arcpy.gp.ZonalStatisticsAsTable_sa(Research_Grids, \"FID\", dir_output+\"\\\\\"+Flight_Date+\"_MCARI1.tif\", \n",
    "                                   dir_output+\"\\\\\"+Flight_Date+\"_MCARI1Avg.dbf\", \"DATA\", \"MEAN\")"
   ]
  },
  {
   "cell_type": "code",
   "execution_count": 45,
   "metadata": {},
   "outputs": [
    {
     "data": {
      "text/html": [
       "<h2>Output</h2>D:\\Project_Wellsville\\13_2nd_flight_2020\\1_ArcGIS_0904\\Well0904_Grids_1m.shp<h2>Messages</h2>Start Time: Friday, March 26, 2021 3:39:03 PM<br/>Succeeded at Friday, March 26, 2021 3:39:22 PM (Elapsed Time: 19.20 seconds)<br/><style>.rendered_html td, .rendered_html th {text-align: left;}.rendered_html tbody {border: 1px solid black;}</style>"
      ],
      "text/plain": [
       "<Result 'D:\\\\Project_Wellsville\\\\13_2nd_flight_2020\\\\1_ArcGIS_0904\\\\Well0904_Grids_1m.shp'>"
      ]
     },
     "execution_count": 45,
     "metadata": {},
     "output_type": "execute_result"
    }
   ],
   "source": [
    "# join the field\n",
    "arcpy.management.JoinField(Research_Grids, \n",
    "                           \"FID\", \n",
    "                           dir_output+\"\\\\\"+Flight_Date+\"_CIreAvg.dbf\", \n",
    "                           \"FID_\", \n",
    "                           \"MEAN\")\n",
    "arcpy.management.JoinField(Research_Grids, \n",
    "                           \"FID\", \n",
    "                           dir_output+\"\\\\\"+Flight_Date+\"_NDVIAvg.dbf\", \n",
    "                           \"FID_\", \n",
    "                           \"MEAN\")\n",
    "arcpy.management.JoinField(Research_Grids, \n",
    "                           \"FID\", \n",
    "                           dir_output+\"\\\\\"+Flight_Date+\"_MCARI1Avg.dbf\", \n",
    "                           \"FID_\", \n",
    "                           \"MEAN\")"
   ]
  },
  {
   "cell_type": "code",
   "execution_count": 46,
   "metadata": {},
   "outputs": [
    {
     "data": {
      "text/html": [
       "<h2>Output</h2>D:\\Project_Wellsville\\13_2nd_flight_2020\\3_Model_Process_1\\20200904_MCARI1_Avg.tif<h2>Messages</h2>Start Time: Friday, March 26, 2021 3:39:30 PM<br/>Succeeded at Friday, March 26, 2021 3:39:33 PM (Elapsed Time: 3.28 seconds)<br/><style>.rendered_html td, .rendered_html th {text-align: left;}.rendered_html tbody {border: 1px solid black;}</style>"
      ],
      "text/plain": [
       "<Result 'D:\\\\Project_Wellsville\\\\13_2nd_flight_2020\\\\3_Model_Process_1\\\\20200904_MCARI1_Avg.tif'>"
      ]
     },
     "execution_count": 46,
     "metadata": {},
     "output_type": "execute_result"
    }
   ],
   "source": [
    "# feature to raster\n",
    "arcpy.conversion.FeatureToRaster(in_features=Research_Grids, \n",
    "                                 field=\"MEAN\", \n",
    "                                 out_raster=dir_output+\"\\\\\"+Flight_Date+\"_CIre_Avg.tif\", \n",
    "                                 cell_size=GridSize)\n",
    "arcpy.conversion.FeatureToRaster(in_features=Research_Grids, \n",
    "                                 field=\"MEAN_1\", \n",
    "                                 out_raster=dir_output+\"\\\\\"+Flight_Date+\"_NDVI_Avg.tif\", \n",
    "                                 cell_size=GridSize)\n",
    "arcpy.conversion.FeatureToRaster(in_features=Research_Grids, \n",
    "                                 field=\"MEAN_12\", \n",
    "                                 out_raster=dir_output+\"\\\\\"+Flight_Date+\"_MCARI1_Avg.tif\", \n",
    "                                 cell_size=GridSize)"
   ]
  },
  {
   "cell_type": "code",
   "execution_count": 53,
   "metadata": {},
   "outputs": [
    {
     "data": {
      "text/html": [
       "<h2>Output</h2>D:\\Project_Wellsville\\13_2nd_flight_2020\\1_ArcGIS_0904\\Well0904_Grids_1m.shp<h2>Messages</h2>Start Time: Friday, March 26, 2021 3:45:02 PM<br/>Succeeded at Friday, March 26, 2021 3:45:20 PM (Elapsed Time: 17.82 seconds)<br/><style>.rendered_html td, .rendered_html th {text-align: left;}.rendered_html tbody {border: 1px solid black;}</style>"
      ],
      "text/plain": [
       "<Result 'D:\\\\Project_Wellsville\\\\13_2nd_flight_2020\\\\1_ArcGIS_0904\\\\Well0904_Grids_1m.shp'>"
      ]
     },
     "execution_count": 53,
     "metadata": {},
     "output_type": "execute_result"
    }
   ],
   "source": [
    "# point to raster\n",
    "# assign canopy height for different canopy type\n",
    "# ID == 1: corn\n",
    "# ID == 2 or 3: alfalfa\n",
    "# ID == 4: marijuana\n",
    "# ID == 5: road\n",
    "# ID == 6: unknown place\n",
    "arcpy.management.CalculateField(Research_Grids, \n",
    "                                \"LAI\", \n",
    "                                \"laicalculation(!Id!,!MEAN!,!MEAN_1!)\", \n",
    "                                \"PYTHON3\", \n",
    "                                \"\"\"def laicalculation(ID,CI_re,NDVI):\n",
    "    if ID == 1:\n",
    "        laifc = 0.5574*CI_re+0.5617\n",
    "    elif ID == 2:\n",
    "        laifc = 3.5255*NDVI**1.8485\n",
    "    elif ID == 3:\n",
    "        laifc = 3.5255*NDVI**1.8485\n",
    "    elif ID == 4:\n",
    "        laifc = 0.2853*CI_re+0.2604\n",
    "    elif ID == 5:\n",
    "        laifc = 0\n",
    "    elif ID == 6:\n",
    "        laifc = 0\n",
    "    return(laifc)\"\"\", \"DOUBLE\")"
   ]
  },
  {
   "cell_type": "code",
   "execution_count": 54,
   "metadata": {},
   "outputs": [
    {
     "name": "stdout",
     "output_type": "stream",
     "text": [
      "D:\\Project_Wellsville\\13_2nd_flight_2020\\3_Model_Process_1\\20200904_LAI.tif\n",
      "Done!!! Tiff data has been written.\n"
     ]
    },
    {
     "data": {
      "text/plain": [
       "()"
      ]
     },
     "execution_count": 54,
     "metadata": {},
     "output_type": "execute_result"
    }
   ],
   "source": [
    "# write feature to raster\n",
    "# output the LAI*Fc as an image - LAI*Fc is the LAI value for the domain\n",
    "arcpy.conversion.FeatureToRaster(in_features=Research_Grids, \n",
    "                                 field=\"LAI\", \n",
    "                                 out_raster=dir_output+\"\\\\\"+Flight_Date+\"_LAI_tmp.tif\", \n",
    "                                 cell_size=GridSize)\n",
    "# force negative LAI values to 0\n",
    "Array_LAI = arcpy.RasterToNumPyArray(dir_output+\"\\\\\"+Flight_Date+\"_LAI_tmp.tif\", \n",
    "                                          nodata_to_value=NoDataValue)\n",
    "Array_LAI[Array_LAI<0] = 0\n",
    "Array_LAI[Array_LAI>LAI_max_value] = LAI_max_value\n",
    "WriteTiffData(dir_output, Flight_Date+\"_LAI\", dims[0], dims[1], Array_LAI, img_geo, img_prj)"
   ]
  },
  {
   "cell_type": "code",
   "execution_count": 62,
   "metadata": {},
   "outputs": [
    {
     "data": {
      "image/png": "[encoded data removed]",
      "text/plain": [
       "<Figure size 432x288 with 1 Axes>"
      ]
     },
     "metadata": {
      "needs_background": "light"
     },
     "output_type": "display_data"
    }
   ],
   "source": [
    "# the histogram of the LAI\n",
    "LAI_hist = Array_LAI.reshape(-1)\n",
    "n, bins, patches = plt.hist(LAI_hist, 15, density=True, facecolor='g', alpha=0.75)\n",
    "plt.xlabel('LAI')\n",
    "plt.ylabel('Probability')\n",
    "plt.title('Histogram of LAI')\n",
    "plt.xlim(0, LAI_max_value)\n",
    "plt.grid(True)\n",
    "plt.show()"
   ]
  },
  {
   "cell_type": "markdown",
   "metadata": {},
   "source": [
    "# Upscaling the thermal data"
   ]
  },
  {
   "cell_type": "code",
   "execution_count": 49,
   "metadata": {},
   "outputs": [
    {
     "name": "stdout",
     "output_type": "stream",
     "text": [
      "Dimension of the data is: 13213 19518\n",
      "D:\\Project_Wellsville\\13_2nd_flight_2020\\3_Model_Process_1\\20200904_Tr.tif\n",
      "Done!!! Tiff data has been written.\n",
      "D:\\Project_Wellsville\\13_2nd_flight_2020\\3_Model_Process_1\\20200904_Tr_Energy.tif\n",
      "Done!!! Tiff data has been written.\n"
     ]
    },
    {
     "data": {
      "text/plain": [
       "()"
      ]
     },
     "execution_count": 49,
     "metadata": {},
     "output_type": "execute_result"
    }
   ],
   "source": [
    "# extract thermal band from the original bands\n",
    "[dims,img_geo,img_prj] = TellTheGeoInfo(AggieAir_Spectral)\n",
    "Array_tr_tmp = arcpy.RasterToNumPyArray(AggieAir_Spectral,\n",
    "                                        nodata_to_value=ThermalNoDataValue)\n",
    "WriteTiffData(dir_output, Flight_Date+\"_Tr\", dims[0], dims[1], Array_tr_tmp[band_Tr,:,:], img_geo, img_prj)\n",
    "# upscale to energy level\n",
    "Array_tr_cal = arcpy.RasterToNumPyArray(dir_output+\"\\\\\"+Flight_Date+\"_Tr.tif\",\n",
    "                                        nodata_to_value=ThermalNoDataValue)\n",
    "Array_tr_cal = Array_tr_cal**4\n",
    "WriteTiffData(dir_output, Flight_Date+\"_Tr_Energy\", dims[0], dims[1], Array_tr_cal, img_geo, img_prj)"
   ]
  },
  {
   "cell_type": "code",
   "execution_count": 50,
   "metadata": {},
   "outputs": [
    {
     "data": {
      "text/html": [
       "<h2>Output</h2>D:\\Project_Wellsville\\13_2nd_flight_2020\\3_Model_Process_1\\20200904_Tr_Cliped.tif<h2>Messages</h2>Start Time: Friday, March 26, 2021 3:41:06 PM<br/>Building Pyramids...<br/>Succeeded at Friday, March 26, 2021 3:41:06 PM (Elapsed Time: 0.38 seconds)<br/><style>.rendered_html td, .rendered_html th {text-align: left;}.rendered_html tbody {border: 1px solid black;}</style>"
      ],
      "text/plain": [
       "<Result 'D:\\\\Project_Wellsville\\\\13_2nd_flight_2020\\\\3_Model_Process_1\\\\20200904_Tr_Cliped.tif'>"
      ]
     },
     "execution_count": 50,
     "metadata": {},
     "output_type": "execute_result"
    }
   ],
   "source": [
    "# adjust the grid size on the energy level\n",
    "arcpy.Resample_management(dir_output+\"\\\\\"+Flight_Date+\"_Tr_Energy.tif\", \n",
    "                          out_raster=dir_output+\"\\\\\"+Flight_Date+\"_Tr_res.tif\",\n",
    "                          cell_size=GridSize, \n",
    "                          resampling_type=\"NEAREST\")\n",
    "arcpy.Clip_management(in_raster=dir_output+\"\\\\\"+Flight_Date+\"_Tr_res.tif\",\n",
    "                      rectangle=rectangle_extent, \n",
    "                      out_raster=dir_output+\"\\\\\"+Flight_Date+\"_Tr_Cliped.tif\", \n",
    "                      in_template_dataset=Research_Grids, \n",
    "                      nodata_value=NoDataValue, \n",
    "                      clipping_geometry=\"NONE\", maintain_clipping_extent=\"MAINTAIN_EXTENT\")"
   ]
  },
  {
   "cell_type": "code",
   "execution_count": 51,
   "metadata": {},
   "outputs": [
    {
     "name": "stdout",
     "output_type": "stream",
     "text": [
      "Dimension of the data is: 494 616\n",
      "D:\\Project_Wellsville\\13_2nd_flight_2020\\3_Model_Process_1\\20200904_Tr_Final.tif\n",
      "Done!!! Tiff data has been written.\n"
     ]
    },
    {
     "data": {
      "text/plain": [
       "()"
      ]
     },
     "execution_count": 51,
     "metadata": {},
     "output_type": "execute_result"
    }
   ],
   "source": [
    "[dims,img_geo,img_prj] = TellTheGeoInfo(dir_output+\"\\\\\"+Flight_Date+\"_Tr_Cliped.tif\",)\n",
    "Array_tr_cal = arcpy.RasterToNumPyArray(dir_output+\"\\\\\"+Flight_Date+\"_Tr_Cliped.tif\",\n",
    "                                        nodata_to_value=ThermalNoDataValue)\n",
    "Array_tr_cal = np.sqrt(np.sqrt(Array_tr_cal))\n",
    "Array_tr_cal = Array_tr_cal + 273.15\n",
    "WriteTiffData(dir_output, Flight_Date+\"_Tr_Final\", dims[0], dims[1], Array_tr_cal, img_geo, img_prj)"
   ]
  },
  {
   "cell_type": "code",
   "execution_count": null,
   "metadata": {},
   "outputs": [],
   "source": []
  }
 ],
 "metadata": {
  "kernelspec": {
   "display_name": "Python 3",
   "language": "python",
   "name": "python3"
  },
  "language_info": {
   "codemirror_mode": {
    "name": "ipython",
    "version": 3
   },
   "file_extension": ".py",
   "mimetype": "text/x-python",
   "name": "python",
   "nbconvert_exporter": "python",
   "pygments_lexer": "ipython3",
   "version": "3.7.9"
  },
  "toc-autonumbering": true
 },
 "nbformat": 4,
 "nbformat_minor": 4
}
